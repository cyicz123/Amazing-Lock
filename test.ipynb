{
 "cells": [
  {
   "cell_type": "code",
   "execution_count": 1,
   "outputs": [
    {
     "name": "stdout",
     "output_type": "stream",
     "text": [
      "{'face_token': 'fid', 'user_list': [{'group_id': 'test1', 'user_id': 'u333333', 'user_info': 'Test User', 'score': 99.3}]}\n"
     ]
    }
   ],
   "source": [
    "d={\n",
    "    \"face_token\": \"fid\",\n",
    "    \"user_list\": [\n",
    "       {\n",
    "          \"group_id\" : \"test1\",\n",
    "          \"user_id\": \"u333333\",\n",
    "          \"user_info\": \"Test User\",\n",
    "          \"score\": 99.3\n",
    "      }\n",
    "    ]\n",
    "  }\n",
    "print(d)"
   ],
   "metadata": {
    "collapsed": false,
    "pycharm": {
     "name": "#%%\n"
    }
   }
  },
  {
   "cell_type": "code",
   "execution_count": 5,
   "outputs": [
    {
     "name": "stdout",
     "output_type": "stream",
     "text": [
      "{'group_id': 'test1', 'user_id': 'u333333', 'user_info': 'Test User', 'score': 99.3}\n"
     ]
    }
   ],
   "source": [
    "for key in d['user_list']:\n",
    "    print(key)\n"
   ],
   "metadata": {
    "collapsed": false,
    "pycharm": {
     "name": "#%%\n"
    }
   }
  }
 ],
 "metadata": {
  "kernelspec": {
   "name": "python3",
   "language": "python",
   "display_name": "Python 3"
  },
  "language_info": {
   "codemirror_mode": {
    "name": "ipython",
    "version": 2
   },
   "file_extension": ".py",
   "mimetype": "text/x-python",
   "name": "python",
   "nbconvert_exporter": "python",
   "pygments_lexer": "ipython2",
   "version": "2.7.6"
  }
 },
 "nbformat": 4,
 "nbformat_minor": 0
}